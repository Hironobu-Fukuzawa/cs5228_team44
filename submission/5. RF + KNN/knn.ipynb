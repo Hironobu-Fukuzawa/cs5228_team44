{
 "cells": [
  {
   "cell_type": "code",
   "execution_count": 41,
   "metadata": {},
   "outputs": [
    {
     "name": "stdout",
     "output_type": "stream",
     "text": [
      "The autoreload extension is already loaded. To reload it, use:\n",
      "  %reload_ext autoreload\n"
     ]
    }
   ],
   "source": [
    "%load_ext autoreload\n",
    "%autoreload 2\n",
    "%matplotlib inline"
   ]
  },
  {
   "cell_type": "code",
   "execution_count": 42,
   "metadata": {},
   "outputs": [],
   "source": [
    "import pandas as pd\n",
    "import numpy as np\n",
    "from sklearn.neighbors import BallTree\n",
    "import matplotlib.pyplot as plt"
   ]
  },
  {
   "cell_type": "code",
   "execution_count": 43,
   "metadata": {},
   "outputs": [],
   "source": [
    "def print_full(x):\n",
    "    pd.set_option('display.max_rows', None)\n",
    "    pd.set_option('display.max_columns', None)\n",
    "    pd.set_option('display.width', 2000)\n",
    "    pd.set_option('display.float_format', '{:20,.2f}'.format)\n",
    "    pd.set_option('display.max_colwidth', None)\n",
    "    print(x)\n",
    "    pd.reset_option('display.max_rows')\n",
    "    pd.reset_option('display.max_columns')\n",
    "    pd.reset_option('display.width')\n",
    "    pd.reset_option('display.float_format')\n",
    "    pd.reset_option('display.max_colwidth')"
   ]
  },
  {
   "cell_type": "code",
   "execution_count": 44,
   "metadata": {},
   "outputs": [],
   "source": [
    "df_train = pd.read_csv(\"./datasets/train-data-cleaned-v2.csv\")\n",
    "df_test = pd.read_csv(\"./datasets/test-data-cleaned-v2.csv\")\n",
    "\n",
    "df_train = df_train.loc[:, ~df_train.columns.str.contains('^Unnamed')]\n",
    "df_test = df_test.loc[:, ~df_test.columns.str.contains('^Unnamed')]\n",
    "\n",
    "# df_train = df_train.iloc[:,0:29]\n",
    "# df_test = df_test.iloc[:,0:28]\n",
    "\n",
    "df_train = df_train.reindex(sorted(df_train.columns), axis=1)\n",
    "df_test = df_test.reindex(sorted(df_test.columns), axis=1)\n",
    "\n"
   ]
  },
  {
   "cell_type": "code",
   "execution_count": 45,
   "metadata": {},
   "outputs": [
    {
     "name": "stdout",
     "output_type": "stream",
     "text": [
      "(60000, 79)\n",
      "(60000, 78)\n",
      "                0799hk               1792hk               2588hk               a17usi                ap4si                 asln                bn4si               buousi                c07si                c09si               c38usi                c52si                c6lsi               cjlusi                d05si                e5hsi                f34si  flat_model                 flex       floor_area_sqm                g07si                g13si                 grab                 grin                hmnsi               k71usi                  ken                 klic             latitude            longitude               m44usi                 maxn               me8usi  monthly_avg_rent_by_flat_model  monthly_avg_rent_by_planning_area  monthly_avg_rent_by_region  monthly_avg_rent_by_subzone  monthly_avg_rent_per_sqm_by_flat_model  monthly_avg_rent_per_sqm_by_planning_area  monthly_avg_rent_per_sqm_by_region  monthly_avg_rent_per_sqm_by_subzone  monthly_rent               n2iusi  n_existing_stations_0.1_km  n_existing_stations_0.2_km  n_existing_stations_0.5_km  n_primary_schools_0.1_km  n_primary_schools_0.2_km  n_primary_schools_0.5_km  n_shopping_malls_0.1_km  n_shopping_malls_0.2_km  n_shopping_malls_0.5_km               ns8usi                o39si                p15si  planning_area  region  remaining_year  rent_approved_month  rent_approved_year                s08si                s51si                s58si                s63si                s68si                   se  subzone               t82usi                trirf                u06si                u11si                u14si                u96si                v03si                vc2si                  wve      yearly_avg_rent                z25si                z74si\n",
      "0                 7.85                 0.13                62.17                 3.07                 1.08                14.30                 5.22                 1.50                19.54                 6.97                 2.05                 1.56                 4.97                 0.98                30.05                 0.23                 4.13          18                18.50                67.00                21.31                 0.76                10.44                16.84                 0.98                 1.06                41.78                68.26                 1.34               103.74                 2.08                18.12                 2.87                        2,369.97                           2,595.15                    2,569.17                     2,542.16                                   31.06                                      27.92                               27.23                                29.74          1600                 2.09                           0                           0                           0                         0                         0                         0                        0                        0                        0                 0.22                11.57                 0.38             16       3              61                    9                2021                 0.65                 0.08                 4.03                 3.80                10.08               334.06       92                 1.43                 5.37                 2.65                25.62                 7.00                 1.88                18.49                 1.64                 5.83             2,225.77                 1.15                 2.42\n",
      "\n",
      "                0799hk               1792hk               2588hk               a17usi                ap4si                 asln                bn4si               buousi                c07si                c09si               c38usi                c52si                c6lsi               cjlusi                d05si                e5hsi                f34si  flat_model                 flex       floor_area_sqm                g07si                g13si                 grab                 grin                hmnsi               k71usi                  ken                 klic             latitude            longitude               m44usi                 maxn               me8usi  monthly_avg_rent_by_flat_model  monthly_avg_rent_by_planning_area  monthly_avg_rent_by_region  monthly_avg_rent_by_subzone  monthly_avg_rent_per_sqm_by_flat_model  monthly_avg_rent_per_sqm_by_planning_area  monthly_avg_rent_per_sqm_by_region  monthly_avg_rent_per_sqm_by_subzone               n2iusi  n_existing_stations_0.1_km  n_existing_stations_0.2_km  n_existing_stations_0.5_km  n_primary_schools_0.1_km  n_primary_schools_0.2_km  n_primary_schools_0.5_km  n_shopping_malls_0.1_km  n_shopping_malls_0.2_km  n_shopping_malls_0.5_km               ns8usi                o39si                p15si  planning_area  region  remaining_year  rent_approved_month  rent_approved_year                s08si                s51si                s58si                s63si                s68si                   se  subzone               t82usi                trirf                u06si                u11si                u14si                u96si                v03si                vc2si                  wve      yearly_avg_rent                z25si                z74si\n",
      "0                 7.85                 0.13                62.17                 3.07                 1.08                14.30                 5.22                 1.50                19.54                 6.97                 2.05                 1.56                 4.97                 0.98                30.05                 0.23                 4.13          18                18.50                67.00                21.31                 0.76                10.44                16.84                 0.98                 1.06                41.78                68.26                 1.34               103.74                 2.08                18.12                 2.87                        2,369.97                           2,595.15                    2,569.17                     2,542.16                                   31.06                                      27.92                               27.23                                29.74                 2.09                           0                           0                           0                         0                         0                         0                        0                        0                        0                 0.22                11.57                 0.38             16       3              61                    9                2021                 0.65                 0.08                 4.03                 3.80                10.08               334.06       92                 1.43                 5.37                 2.65                25.62                 7.00                 1.88                18.49                 1.64                 5.83             2,225.77                 1.15                 2.42\n"
     ]
    }
   ],
   "source": [
    "print(df_train.shape)\n",
    "print(df_test.shape)\n",
    "\n",
    "df_X, df_y = df_train.loc[:, df_train.columns != 'monthly_rent'], df_train['monthly_rent']\n",
    "\n",
    "X, y = df_X.to_numpy(), df_y.to_numpy()\n",
    "\n",
    "print_full(df_train.head(1))\n",
    "print()\n",
    "print_full(df_test.head(1))"
   ]
  },
  {
   "cell_type": "code",
   "execution_count": 46,
   "metadata": {},
   "outputs": [],
   "source": [
    "from sklearn.metrics import f1_score, mean_squared_error\n",
    "from sklearn.neighbors  import KNeighborsRegressor\n",
    "from sklearn.model_selection import train_test_split, cross_validate"
   ]
  },
  {
   "cell_type": "code",
   "execution_count": 47,
   "metadata": {},
   "outputs": [
    {
     "name": "stdout",
     "output_type": "stream",
     "text": [
      "(60000, 78)\n",
      "(60000,)\n",
      "param = 1, RSME training = 173.3 (1.1), RSME validation = 682.2 (10.6)\n",
      "param = 2, RSME training = 343.8 (0.8), RSME validation = 593.5 (8.2)\n",
      "param = 3, RSME training = 395.1 (0.6), RSME validation = 560.5 (6.0)\n",
      "param = 5, RSME training = 435.1 (0.8), RSME validation = 534.2 (6.3)\n",
      "param = 8, RSME training = 458.3 (0.7), RSME validation = 520.6 (6.0)\n",
      "param = 10, RSME training = 466.4 (0.6), RSME validation = 517.2 (6.3)\n",
      "param = 12, RSME training = 472.7 (0.6), RSME validation = 515.2 (6.1)\n",
      "param = 15, RSME training = 479.8 (0.8), RSME validation = 513.9 (6.2)\n",
      "param = 20, RSME training = 487.6 (0.7), RSME validation = 513.3 (5.9)\n",
      "param = 25, RSME training = 492.8 (0.7), RSME validation = 513.6 (5.6)\n",
      "param = 50, RSME training = 508.6 (0.7), RSME validation = 519.3 (5.4)\n",
      "param = 100, RSME training = 525.0 (0.7), RSME validation = 530.6 (6.0)\n",
      "Wall time: 1h 51min 28s\n"
     ]
    }
   ],
   "source": [
    "%%time\n",
    "\n",
    "print(X.shape)\n",
    "print(y.shape)\n",
    "# Only considered hyperparameter: max depth of trees\n",
    "param_choices = [1, 2, 3, 5, 8, 10, 12, 15, 20, 25, 50,100]\n",
    "# param_choices = [100,150,200]\n",
    "\n",
    "# Keep track of results for visualization\n",
    "param_to_scores = {}\n",
    "\n",
    "for param in param_choices:\n",
    "\n",
    "    # Train regressor with the current parameter setting\n",
    "    # regressor = DecisionTreeRegressor(max_depth=param)\n",
    "    # regressor = RandomForestRegressor(max_depth=param)\n",
    "    regressor = KNeighborsRegressor(n_neighbors=param)\n",
    "    \n",
    "    # Perform 10-fold cross_validations\n",
    "    scores = cross_validate(regressor, X, y, cv=10, scoring='neg_root_mean_squared_error', return_train_score=True)\n",
    "    \n",
    "    # Extract the 10 RSME scores (training scores and validation scores) for each run/fold\n",
    "    # The (-1) is only needed since we get the negative root mean squared errors (it's a sklearn thing)\n",
    "    rsme_train = scores['train_score'] * (-1)\n",
    "    rsme_valid = scores['test_score'] * (-1)\n",
    "    \n",
    "    ## Keep track of all num_folds f1 scores for current param (for plotting)\n",
    "    param_to_scores[param] = (rsme_train, rsme_valid)\n",
    "    \n",
    "    ## Print statement for some immediate feedback (values in parenthesis represent the Standard Deviation)\n",
    "    print('param = {}, RSME training = {:.1f} ({:.1f}), RSME validation = {:.1f} ({:.1f})'\n",
    "          .format(param, np.mean(rsme_train), np.std(rsme_train), np.mean(rsme_valid), np.std(rsme_valid)))"
   ]
  },
  {
   "cell_type": "code",
   "execution_count": 48,
   "metadata": {},
   "outputs": [],
   "source": [
    "regressor = KNeighborsRegressor(n_neighbors=15)\n",
    "pred = regressor.fit(X,y).predict(df_test.to_numpy())"
   ]
  },
  {
   "cell_type": "code",
   "execution_count": 49,
   "metadata": {},
   "outputs": [],
   "source": [
    "df = pd.DataFrame({'Id': np.arange(len(pred)), 'Predicted': pred})\n",
    "df.to_csv(\"./pred/cx_knn.csv\", index=False)"
   ]
  }
 ],
 "metadata": {
  "kernelspec": {
   "display_name": "Python 3",
   "language": "python",
   "name": "python3"
  },
  "language_info": {
   "codemirror_mode": {
    "name": "ipython",
    "version": 3
   },
   "file_extension": ".py",
   "mimetype": "text/x-python",
   "name": "python",
   "nbconvert_exporter": "python",
   "pygments_lexer": "ipython3",
   "version": "3.9.1"
  }
 },
 "nbformat": 4,
 "nbformat_minor": 2
}
